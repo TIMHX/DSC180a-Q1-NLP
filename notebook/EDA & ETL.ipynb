{
 "cells": [
  {
   "cell_type": "code",
   "execution_count": 68,
   "id": "27fbde0d",
   "metadata": {},
   "outputs": [],
   "source": [
    "import pandas as pd\n",
    "import matplotlib.pyplot as plt\n",
    "import seaborn as sns\n",
    "import csv\n",
    "from sklearn.model_selection import train_test_split"
   ]
  },
  {
   "cell_type": "code",
   "execution_count": 69,
   "id": "56f9c539",
   "metadata": {},
   "outputs": [],
   "source": [
    "sentiment  = {'positive': 1,'neutral': 0,'negative':-1} "
   ]
  },
  {
   "cell_type": "code",
   "execution_count": 70,
   "id": "6e313378",
   "metadata": {},
   "outputs": [],
   "source": [
    "df_1 = pd.read_csv('input/financial-news/all-data.csv',delimiter=',',encoding='latin-1', names=['sentiment', 'text'])\n",
    "df_1.rename(columns = {'sentiment':'label'}, inplace = True)\n",
    "df_1.label = [sentiment[item] for item in df_1.label] "
   ]
  },
  {
   "cell_type": "code",
   "execution_count": 71,
   "id": "1f5f1f48",
   "metadata": {},
   "outputs": [],
   "source": [
    "df_2 = pd.read_csv('input/tweets/tweets_labelled_09042020_16072020.csv',on_bad_lines='skip', sep = ';')\n",
    "df_2 = df_2.dropna()[['text','sentiment']]\n",
    "df_2.rename(columns = {'sentiment':'label'}, inplace = True)\n",
    "df_2.label = [sentiment[item] for item in df_2.label] "
   ]
  },
  {
   "cell_type": "code",
   "execution_count": 72,
   "id": "90f7e9de",
   "metadata": {},
   "outputs": [],
   "source": [
    "df_3 = pd.read_csv('input/tweets/stock_data.csv')\n",
    "df_3.rename(columns = {'Sentiment':'label', 'Text':'text'}, inplace = True)"
   ]
  },
  {
   "cell_type": "code",
   "execution_count": 73,
   "id": "2ee8f2e3",
   "metadata": {},
   "outputs": [
    {
     "data": {
      "text/html": [
       "<div>\n",
       "<style scoped>\n",
       "    .dataframe tbody tr th:only-of-type {\n",
       "        vertical-align: middle;\n",
       "    }\n",
       "\n",
       "    .dataframe tbody tr th {\n",
       "        vertical-align: top;\n",
       "    }\n",
       "\n",
       "    .dataframe thead th {\n",
       "        text-align: right;\n",
       "    }\n",
       "</style>\n",
       "<table border=\"1\" class=\"dataframe\">\n",
       "  <thead>\n",
       "    <tr style=\"text-align: right;\">\n",
       "      <th></th>\n",
       "      <th>label</th>\n",
       "      <th>text</th>\n",
       "    </tr>\n",
       "  </thead>\n",
       "  <tbody>\n",
       "    <tr>\n",
       "      <th>0</th>\n",
       "      <td>0</td>\n",
       "      <td>According to Gran , the company has no plans t...</td>\n",
       "    </tr>\n",
       "    <tr>\n",
       "      <th>1</th>\n",
       "      <td>0</td>\n",
       "      <td>Technopolis plans to develop in stages an area...</td>\n",
       "    </tr>\n",
       "    <tr>\n",
       "      <th>2</th>\n",
       "      <td>-1</td>\n",
       "      <td>The international electronic industry company ...</td>\n",
       "    </tr>\n",
       "    <tr>\n",
       "      <th>3</th>\n",
       "      <td>1</td>\n",
       "      <td>With the new production plant the company woul...</td>\n",
       "    </tr>\n",
       "    <tr>\n",
       "      <th>4</th>\n",
       "      <td>1</td>\n",
       "      <td>According to the company 's updated strategy f...</td>\n",
       "    </tr>\n",
       "    <tr>\n",
       "      <th>...</th>\n",
       "      <td>...</td>\n",
       "      <td>...</td>\n",
       "    </tr>\n",
       "    <tr>\n",
       "      <th>5786</th>\n",
       "      <td>-1</td>\n",
       "      <td>Industry body CII said #discoms are likely to ...</td>\n",
       "    </tr>\n",
       "    <tr>\n",
       "      <th>5787</th>\n",
       "      <td>-1</td>\n",
       "      <td>#Gold prices slip below Rs 46,000 as #investor...</td>\n",
       "    </tr>\n",
       "    <tr>\n",
       "      <th>5788</th>\n",
       "      <td>1</td>\n",
       "      <td>Workers at Bajaj Auto have agreed to a 10% wag...</td>\n",
       "    </tr>\n",
       "    <tr>\n",
       "      <th>5789</th>\n",
       "      <td>1</td>\n",
       "      <td>#Sharemarket LIVE: Sensex off day’s high, up 6...</td>\n",
       "    </tr>\n",
       "    <tr>\n",
       "      <th>5790</th>\n",
       "      <td>1</td>\n",
       "      <td>#Sensex, #Nifty climb off day's highs, still u...</td>\n",
       "    </tr>\n",
       "  </tbody>\n",
       "</table>\n",
       "<p>11937 rows × 2 columns</p>\n",
       "</div>"
      ],
      "text/plain": [
       "      label                                               text\n",
       "0         0  According to Gran , the company has no plans t...\n",
       "1         0  Technopolis plans to develop in stages an area...\n",
       "2        -1  The international electronic industry company ...\n",
       "3         1  With the new production plant the company woul...\n",
       "4         1  According to the company 's updated strategy f...\n",
       "...     ...                                                ...\n",
       "5786     -1  Industry body CII said #discoms are likely to ...\n",
       "5787     -1  #Gold prices slip below Rs 46,000 as #investor...\n",
       "5788      1  Workers at Bajaj Auto have agreed to a 10% wag...\n",
       "5789      1  #Sharemarket LIVE: Sensex off day’s high, up 6...\n",
       "5790      1  #Sensex, #Nifty climb off day's highs, still u...\n",
       "\n",
       "[11937 rows x 2 columns]"
      ]
     },
     "execution_count": 73,
     "metadata": {},
     "output_type": "execute_result"
    }
   ],
   "source": [
    "df = pd.concat([df_1, df_2, df_3])\n",
    "df"
   ]
  },
  {
   "cell_type": "code",
   "execution_count": 74,
   "id": "82dbf730",
   "metadata": {},
   "outputs": [
    {
     "name": "stderr",
     "output_type": "stream",
     "text": [
      "/opt/conda/lib/python3.9/site-packages/seaborn/_decorators.py:36: FutureWarning: Pass the following variables as keyword args: x, y. From version 0.12, the only valid positional argument will be `data`, and passing other arguments without an explicit keyword will result in an error or misinterpretation.\n",
      "  warnings.warn(\n"
     ]
    },
    {
     "data": {
      "image/png": "[encoded data removed]",
      "text/plain": [
       "<Figure size 864x288 with 1 Axes>"
      ]
     },
     "metadata": {
      "needs_background": "light"
     },
     "output_type": "display_data"
    }
   ],
   "source": [
    "sentiment = df['label'].value_counts()\n",
    "plt.figure(figsize=(12,4))\n",
    "sns.barplot(sentiment.index, sentiment.values, alpha=0.8)\n",
    "plt.ylabel('Number of Occurrences', fontsize=12)\n",
    "plt.xlabel('sentiment', fontsize=12)\n",
    "plt.xticks(rotation=90)\n",
    "plt.show();"
   ]
  },
  {
   "cell_type": "code",
   "execution_count": 75,
   "id": "556bd549",
   "metadata": {},
   "outputs": [],
   "source": [
    "train, test = train_test_split(df, test_size=0.1)"
   ]
  },
  {
   "cell_type": "code",
   "execution_count": 76,
   "id": "8768baba",
   "metadata": {},
   "outputs": [],
   "source": [
    "train.to_csv('input/train.csv', index = False)  "
   ]
  },
  {
   "cell_type": "code",
   "execution_count": 77,
   "id": "e621fa1d",
   "metadata": {},
   "outputs": [],
   "source": [
    "test.to_csv('input/test.csv', index = False)  "
   ]
  },
  {
   "cell_type": "code",
   "execution_count": 79,
   "id": "a0822835",
   "metadata": {},
   "outputs": [
    {
     "data": {
      "text/html": [
       "<div>\n",
       "<style scoped>\n",
       "    .dataframe tbody tr th:only-of-type {\n",
       "        vertical-align: middle;\n",
       "    }\n",
       "\n",
       "    .dataframe tbody tr th {\n",
       "        vertical-align: top;\n",
       "    }\n",
       "\n",
       "    .dataframe thead th {\n",
       "        text-align: right;\n",
       "    }\n",
       "</style>\n",
       "<table border=\"1\" class=\"dataframe\">\n",
       "  <thead>\n",
       "    <tr style=\"text-align: right;\">\n",
       "      <th></th>\n",
       "      <th>label</th>\n",
       "      <th>text</th>\n",
       "    </tr>\n",
       "  </thead>\n",
       "  <tbody>\n",
       "    <tr>\n",
       "      <th>540</th>\n",
       "      <td>0</td>\n",
       "      <td>Rautakesko 's business operations in Norway an...</td>\n",
       "    </tr>\n",
       "    <tr>\n",
       "      <th>75</th>\n",
       "      <td>0</td>\n",
       "      <td>On the route between Helsinki in Finland and T...</td>\n",
       "    </tr>\n",
       "    <tr>\n",
       "      <th>2525</th>\n",
       "      <td>-1</td>\n",
       "      <td>COMPQ SPX IND AIG KFT AEP  Futures traded in r...</td>\n",
       "    </tr>\n",
       "    <tr>\n",
       "      <th>1442</th>\n",
       "      <td>1</td>\n",
       "      <td>Through this transaction we are able to partic...</td>\n",
       "    </tr>\n",
       "    <tr>\n",
       "      <th>1908</th>\n",
       "      <td>0</td>\n",
       "      <td>Panostaja treats its negotiating partners , su...</td>\n",
       "    </tr>\n",
       "    <tr>\n",
       "      <th>...</th>\n",
       "      <td>...</td>\n",
       "      <td>...</td>\n",
       "    </tr>\n",
       "    <tr>\n",
       "      <th>4396</th>\n",
       "      <td>1</td>\n",
       "      <td>AAP Gap bottom 437.72, gap top 441.34 and now ...</td>\n",
       "    </tr>\n",
       "    <tr>\n",
       "      <th>3027</th>\n",
       "      <td>0</td>\n",
       "      <td>Mercator will use the software for its logisti...</td>\n",
       "    </tr>\n",
       "    <tr>\n",
       "      <th>2237</th>\n",
       "      <td>1</td>\n",
       "      <td>The offer represents a premium of 24 % over th...</td>\n",
       "    </tr>\n",
       "    <tr>\n",
       "      <th>2225</th>\n",
       "      <td>1</td>\n",
       "      <td>WMT want more march calls</td>\n",
       "    </tr>\n",
       "    <tr>\n",
       "      <th>3313</th>\n",
       "      <td>-1</td>\n",
       "      <td>CAT short idea</td>\n",
       "    </tr>\n",
       "  </tbody>\n",
       "</table>\n",
       "<p>10743 rows × 2 columns</p>\n",
       "</div>"
      ],
      "text/plain": [
       "      label                                               text\n",
       "540       0  Rautakesko 's business operations in Norway an...\n",
       "75        0  On the route between Helsinki in Finland and T...\n",
       "2525     -1  COMPQ SPX IND AIG KFT AEP  Futures traded in r...\n",
       "1442      1  Through this transaction we are able to partic...\n",
       "1908      0  Panostaja treats its negotiating partners , su...\n",
       "...     ...                                                ...\n",
       "4396      1  AAP Gap bottom 437.72, gap top 441.34 and now ...\n",
       "3027      0  Mercator will use the software for its logisti...\n",
       "2237      1  The offer represents a premium of 24 % over th...\n",
       "2225      1                          WMT want more march calls\n",
       "3313     -1                                   CAT short idea  \n",
       "\n",
       "[10743 rows x 2 columns]"
      ]
     },
     "execution_count": 79,
     "metadata": {},
     "output_type": "execute_result"
    }
   ],
   "source": [
    "train"
   ]
  },
  {
   "cell_type": "code",
   "execution_count": null,
   "id": "e600d39a",
   "metadata": {},
   "outputs": [],
   "source": []
  }
 ],
 "metadata": {
  "kernelspec": {
   "display_name": "Python 3 (ipykernel)",
   "language": "python",
   "name": "python3"
  },
  "language_info": {
   "codemirror_mode": {
    "name": "ipython",
    "version": 3
   },
   "file_extension": ".py",
   "mimetype": "text/x-python",
   "name": "python",
   "nbconvert_exporter": "python",
   "pygments_lexer": "ipython3",
   "version": "3.9.5"
  },
  "toc": {
   "base_numbering": 1,
   "nav_menu": {},
   "number_sections": true,
   "sideBar": true,
   "skip_h1_title": false,
   "title_cell": "Table of Contents",
   "title_sidebar": "Contents",
   "toc_cell": false,
   "toc_position": {},
   "toc_section_display": true,
   "toc_window_display": false
  },
  "varInspector": {
   "cols": {
    "lenName": 16,
    "lenType": 16,
    "lenVar": 40
   },
   "kernels_config": {
    "python": {
     "delete_cmd_postfix": "",
     "delete_cmd_prefix": "del ",
     "library": "var_list.py",
     "varRefreshCmd": "print(var_dic_list())"
    },
    "r": {
     "delete_cmd_postfix": ") ",
     "delete_cmd_prefix": "rm(",
     "library": "var_list.r",
     "varRefreshCmd": "cat(var_dic_list()) "
    }
   },
   "types_to_exclude": [
    "module",
    "function",
    "builtin_function_or_method",
    "instance",
    "_Feature"
   ],
   "window_display": false
  }
 },
 "nbformat": 4,
 "nbformat_minor": 5
}
